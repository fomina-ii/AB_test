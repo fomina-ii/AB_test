{
 "cells": [
  {
   "cell_type": "markdown",
   "metadata": {},
   "source": [
    "# A/B–тестирование\n",
    "Одной из основных задач аналитика является корректное проведение экспериментов. Для этого обычно применяется метод A/B–тестирования.\n",
    "\n",
    "В данном проекте, входе тестирования одной гипотезы целевой группе была предложена новая механика оплаты услуг на сайте, у контрольной группы оставалась базовая механика. \n",
    "\n",
    "Задача: проанализировать итоги эксперимента и сделать вывод, стоит ли запускать новую механику оплаты на всех пользователей."
   ]
  },
  {
   "cell_type": "code",
   "execution_count": 1,
   "metadata": {},
   "outputs": [],
   "source": [
    "# Импорт библиотек\n",
    "import pandas as pd\n",
    "import scipy.stats as stats\n",
    "from scipy.stats import shapiro\n",
    "from scipy.stats import levene\n",
    "from scipy.stats import norm\n",
    "import numpy as np\n",
    "import matplotlib.pyplot as plt\n",
    "import seaborn as sns\n",
    "from tqdm.auto import tqdm\n",
    "\n",
    "# Задаем вид графиков\n",
    "sns.set(rc={'figure.figsize':(11.7,8.27)})"
   ]
  },
  {
   "cell_type": "code",
   "execution_count": 2,
   "metadata": {},
   "outputs": [],
   "source": [
    "# Загрузка данных\n",
    "groups = pd.read_csv('https://getfile.dokpub.com/yandex/get/https://disk.yandex.ru/d/UhyYx41rTt3clQ', sep=';')\n",
    "active_studs = pd.read_csv('https://getfile.dokpub.com/yandex/get/https://disk.yandex.ru/d/Tbs44Bm6H_FwFQ')\n",
    "checks = pd.read_csv('https://getfile.dokpub.com/yandex/get/https://disk.yandex.ru/d/pH1q-VqcxXjsVA', sep=';')"
   ]
  },
  {
   "cell_type": "markdown",
   "metadata": {},
   "source": [
    "* groups.csv - файл с информацией о принадлежности пользователя к контрольной или экспериментальной группе (А – контроль, B – целевая группа) \n",
    "* groups_add.csv - дополнительный файл с пользователями, который вам прислали спустя 2 дня после передачи данных\n",
    "* active_studs.csv - файл с информацией о пользователях, которые зашли на платформу в дни проведения эксперимента. \n",
    "* checks.csv - файл с информацией об оплатах пользователей в дни проведения эксперимента.\n",
    "\n",
    "## Шаг 1. Изучение данных"
   ]
  },
  {
   "cell_type": "code",
   "execution_count": 3,
   "metadata": {},
   "outputs": [
    {
     "data": {
      "text/html": [
       "<div>\n",
       "<style scoped>\n",
       "    .dataframe tbody tr th:only-of-type {\n",
       "        vertical-align: middle;\n",
       "    }\n",
       "\n",
       "    .dataframe tbody tr th {\n",
       "        vertical-align: top;\n",
       "    }\n",
       "\n",
       "    .dataframe thead th {\n",
       "        text-align: right;\n",
       "    }\n",
       "</style>\n",
       "<table border=\"1\" class=\"dataframe\">\n",
       "  <thead>\n",
       "    <tr style=\"text-align: right;\">\n",
       "      <th></th>\n",
       "      <th>id</th>\n",
       "      <th>grp</th>\n",
       "    </tr>\n",
       "  </thead>\n",
       "  <tbody>\n",
       "    <tr>\n",
       "      <th>0</th>\n",
       "      <td>1489</td>\n",
       "      <td>B</td>\n",
       "    </tr>\n",
       "    <tr>\n",
       "      <th>1</th>\n",
       "      <td>1627</td>\n",
       "      <td>A</td>\n",
       "    </tr>\n",
       "    <tr>\n",
       "      <th>2</th>\n",
       "      <td>1768</td>\n",
       "      <td>B</td>\n",
       "    </tr>\n",
       "    <tr>\n",
       "      <th>3</th>\n",
       "      <td>1783</td>\n",
       "      <td>B</td>\n",
       "    </tr>\n",
       "    <tr>\n",
       "      <th>4</th>\n",
       "      <td>1794</td>\n",
       "      <td>A</td>\n",
       "    </tr>\n",
       "  </tbody>\n",
       "</table>\n",
       "</div>"
      ],
      "text/plain": [
       "     id grp\n",
       "0  1489   B\n",
       "1  1627   A\n",
       "2  1768   B\n",
       "3  1783   B\n",
       "4  1794   A"
      ]
     },
     "execution_count": 3,
     "metadata": {},
     "output_type": "execute_result"
    }
   ],
   "source": [
    "groups.head()"
   ]
  },
  {
   "cell_type": "code",
   "execution_count": 4,
   "metadata": {},
   "outputs": [
    {
     "name": "stdout",
     "output_type": "stream",
     "text": [
      "Количество строк таблицы \"groups\" = 74484 \n",
      "Количество уникальных значений = 74484\n"
     ]
    }
   ],
   "source": [
    "print('Количество строк таблицы \"groups\" =', len(groups),\n",
    "      '\\nКоличество уникальных значений =', groups.nunique()[0])"
   ]
  },
  {
   "cell_type": "code",
   "execution_count": 5,
   "metadata": {},
   "outputs": [
    {
     "data": {
      "text/html": [
       "<div>\n",
       "<style scoped>\n",
       "    .dataframe tbody tr th:only-of-type {\n",
       "        vertical-align: middle;\n",
       "    }\n",
       "\n",
       "    .dataframe tbody tr th {\n",
       "        vertical-align: top;\n",
       "    }\n",
       "\n",
       "    .dataframe thead th {\n",
       "        text-align: right;\n",
       "    }\n",
       "</style>\n",
       "<table border=\"1\" class=\"dataframe\">\n",
       "  <thead>\n",
       "    <tr style=\"text-align: right;\">\n",
       "      <th></th>\n",
       "      <th>student_id</th>\n",
       "    </tr>\n",
       "  </thead>\n",
       "  <tbody>\n",
       "    <tr>\n",
       "      <th>0</th>\n",
       "      <td>581585</td>\n",
       "    </tr>\n",
       "    <tr>\n",
       "      <th>1</th>\n",
       "      <td>5723133</td>\n",
       "    </tr>\n",
       "    <tr>\n",
       "      <th>2</th>\n",
       "      <td>3276743</td>\n",
       "    </tr>\n",
       "    <tr>\n",
       "      <th>3</th>\n",
       "      <td>4238589</td>\n",
       "    </tr>\n",
       "    <tr>\n",
       "      <th>4</th>\n",
       "      <td>4475369</td>\n",
       "    </tr>\n",
       "  </tbody>\n",
       "</table>\n",
       "</div>"
      ],
      "text/plain": [
       "   student_id\n",
       "0      581585\n",
       "1     5723133\n",
       "2     3276743\n",
       "3     4238589\n",
       "4     4475369"
      ]
     },
     "execution_count": 5,
     "metadata": {},
     "output_type": "execute_result"
    }
   ],
   "source": [
    "active_studs.head()"
   ]
  },
  {
   "cell_type": "code",
   "execution_count": 6,
   "metadata": {},
   "outputs": [
    {
     "name": "stdout",
     "output_type": "stream",
     "text": [
      "Количество строк таблицы \"active_studs\" = 8341 \n",
      "Количество уникальных значений = 8341\n"
     ]
    }
   ],
   "source": [
    "print('Количество строк таблицы \"active_studs\" =', len(active_studs),\n",
    "      '\\nКоличество уникальных значений =', active_studs.nunique()[0])"
   ]
  },
  {
   "cell_type": "code",
   "execution_count": 7,
   "metadata": {},
   "outputs": [
    {
     "data": {
      "text/html": [
       "<div>\n",
       "<style scoped>\n",
       "    .dataframe tbody tr th:only-of-type {\n",
       "        vertical-align: middle;\n",
       "    }\n",
       "\n",
       "    .dataframe tbody tr th {\n",
       "        vertical-align: top;\n",
       "    }\n",
       "\n",
       "    .dataframe thead th {\n",
       "        text-align: right;\n",
       "    }\n",
       "</style>\n",
       "<table border=\"1\" class=\"dataframe\">\n",
       "  <thead>\n",
       "    <tr style=\"text-align: right;\">\n",
       "      <th></th>\n",
       "      <th>student_id</th>\n",
       "      <th>rev</th>\n",
       "    </tr>\n",
       "  </thead>\n",
       "  <tbody>\n",
       "    <tr>\n",
       "      <th>0</th>\n",
       "      <td>1627</td>\n",
       "      <td>990.0</td>\n",
       "    </tr>\n",
       "    <tr>\n",
       "      <th>1</th>\n",
       "      <td>3185</td>\n",
       "      <td>690.0</td>\n",
       "    </tr>\n",
       "    <tr>\n",
       "      <th>2</th>\n",
       "      <td>25973</td>\n",
       "      <td>690.0</td>\n",
       "    </tr>\n",
       "    <tr>\n",
       "      <th>3</th>\n",
       "      <td>26280</td>\n",
       "      <td>690.0</td>\n",
       "    </tr>\n",
       "    <tr>\n",
       "      <th>4</th>\n",
       "      <td>100300</td>\n",
       "      <td>990.0</td>\n",
       "    </tr>\n",
       "  </tbody>\n",
       "</table>\n",
       "</div>"
      ],
      "text/plain": [
       "   student_id    rev\n",
       "0        1627  990.0\n",
       "1        3185  690.0\n",
       "2       25973  690.0\n",
       "3       26280  690.0\n",
       "4      100300  990.0"
      ]
     },
     "execution_count": 7,
     "metadata": {},
     "output_type": "execute_result"
    }
   ],
   "source": [
    "checks.head()"
   ]
  },
  {
   "cell_type": "code",
   "execution_count": 8,
   "metadata": {},
   "outputs": [
    {
     "name": "stdout",
     "output_type": "stream",
     "text": [
      "Количество строк таблицы \"checks\" = 541 \n",
      "Количество уникальных значений = 541\n"
     ]
    }
   ],
   "source": [
    "print('Количество строк таблицы \"checks\" =', len(checks),\n",
    "      '\\nКоличество уникальных значений =', checks.nunique()[0])"
   ]
  },
  {
   "cell_type": "markdown",
   "metadata": {},
   "source": [
    "**Кол-во строк во всех проверяемых таблицах соответствует кол-ву значений по колонке id, - это значит что все значения таблиц уникальны**\n",
    "\n",
    "\n",
    "\n",
    "## Шаг 2. Объединение таблиц\n",
    "Для начала нам необходимо объединить информацию из разных таблиц. \n",
    "\n",
    "Файл active_studs содержит инфоомацию об id пользователей, которые зашли на платформу в дни проведения эксперимента, в то время как groups - группы, к которым принадлежат эти пользователи. Таблица checks содержит информацию о выручке с пользователя. Создадим новую таблицу, где будет содержаться id пользователя, его группа и чек.\n",
    "\n",
    "Для этого сначала необходимо переименовать столбец \"id\" таблицы groups в \"student_id\" для объединения."
   ]
  },
  {
   "cell_type": "code",
   "execution_count": 9,
   "metadata": {},
   "outputs": [],
   "source": [
    "groups.rename(columns={'id': 'student_id'}, inplace=True)"
   ]
  },
  {
   "cell_type": "code",
   "execution_count": 10,
   "metadata": {},
   "outputs": [
    {
     "data": {
      "text/html": [
       "<div>\n",
       "<style scoped>\n",
       "    .dataframe tbody tr th:only-of-type {\n",
       "        vertical-align: middle;\n",
       "    }\n",
       "\n",
       "    .dataframe tbody tr th {\n",
       "        vertical-align: top;\n",
       "    }\n",
       "\n",
       "    .dataframe thead th {\n",
       "        text-align: right;\n",
       "    }\n",
       "</style>\n",
       "<table border=\"1\" class=\"dataframe\">\n",
       "  <thead>\n",
       "    <tr style=\"text-align: right;\">\n",
       "      <th></th>\n",
       "      <th>student_id</th>\n",
       "      <th>grp</th>\n",
       "      <th>rev</th>\n",
       "    </tr>\n",
       "  </thead>\n",
       "  <tbody>\n",
       "    <tr>\n",
       "      <th>0</th>\n",
       "      <td>581585</td>\n",
       "      <td>A</td>\n",
       "      <td>NaN</td>\n",
       "    </tr>\n",
       "    <tr>\n",
       "      <th>1</th>\n",
       "      <td>5723133</td>\n",
       "      <td>NaN</td>\n",
       "      <td>NaN</td>\n",
       "    </tr>\n",
       "    <tr>\n",
       "      <th>2</th>\n",
       "      <td>3276743</td>\n",
       "      <td>B</td>\n",
       "      <td>NaN</td>\n",
       "    </tr>\n",
       "    <tr>\n",
       "      <th>3</th>\n",
       "      <td>4238589</td>\n",
       "      <td>A</td>\n",
       "      <td>NaN</td>\n",
       "    </tr>\n",
       "    <tr>\n",
       "      <th>4</th>\n",
       "      <td>4475369</td>\n",
       "      <td>B</td>\n",
       "      <td>NaN</td>\n",
       "    </tr>\n",
       "    <tr>\n",
       "      <th>...</th>\n",
       "      <td>...</td>\n",
       "      <td>...</td>\n",
       "      <td>...</td>\n",
       "    </tr>\n",
       "    <tr>\n",
       "      <th>8336</th>\n",
       "      <td>1794344</td>\n",
       "      <td>B</td>\n",
       "      <td>NaN</td>\n",
       "    </tr>\n",
       "    <tr>\n",
       "      <th>8337</th>\n",
       "      <td>296883</td>\n",
       "      <td>B</td>\n",
       "      <td>NaN</td>\n",
       "    </tr>\n",
       "    <tr>\n",
       "      <th>8338</th>\n",
       "      <td>3598448</td>\n",
       "      <td>B</td>\n",
       "      <td>NaN</td>\n",
       "    </tr>\n",
       "    <tr>\n",
       "      <th>8339</th>\n",
       "      <td>3610547</td>\n",
       "      <td>B</td>\n",
       "      <td>290.0</td>\n",
       "    </tr>\n",
       "    <tr>\n",
       "      <th>8340</th>\n",
       "      <td>205705</td>\n",
       "      <td>B</td>\n",
       "      <td>NaN</td>\n",
       "    </tr>\n",
       "  </tbody>\n",
       "</table>\n",
       "<p>8341 rows × 3 columns</p>\n",
       "</div>"
      ],
      "text/plain": [
       "      student_id  grp    rev\n",
       "0         581585    A    NaN\n",
       "1        5723133  NaN    NaN\n",
       "2        3276743    B    NaN\n",
       "3        4238589    A    NaN\n",
       "4        4475369    B    NaN\n",
       "...          ...  ...    ...\n",
       "8336     1794344    B    NaN\n",
       "8337      296883    B    NaN\n",
       "8338     3598448    B    NaN\n",
       "8339     3610547    B  290.0\n",
       "8340      205705    B    NaN\n",
       "\n",
       "[8341 rows x 3 columns]"
      ]
     },
     "execution_count": 10,
     "metadata": {},
     "output_type": "execute_result"
    }
   ],
   "source": [
    "# Объединяем таблицы в единый df\n",
    "df = active_studs.merge(groups, on='student_id', how='left')\n",
    "df = df.merge(checks, on='student_id', how='left')\n",
    "df"
   ]
  },
  {
   "cell_type": "markdown",
   "metadata": {},
   "source": [
    "В получившемся датафрейме есть id студентов, которые не попали ни в одну группу. Посмотрим на них отдельно:"
   ]
  },
  {
   "cell_type": "code",
   "execution_count": 11,
   "metadata": {},
   "outputs": [
    {
     "data": {
      "text/html": [
       "<div>\n",
       "<style scoped>\n",
       "    .dataframe tbody tr th:only-of-type {\n",
       "        vertical-align: middle;\n",
       "    }\n",
       "\n",
       "    .dataframe tbody tr th {\n",
       "        vertical-align: top;\n",
       "    }\n",
       "\n",
       "    .dataframe thead th {\n",
       "        text-align: right;\n",
       "    }\n",
       "</style>\n",
       "<table border=\"1\" class=\"dataframe\">\n",
       "  <thead>\n",
       "    <tr style=\"text-align: right;\">\n",
       "      <th></th>\n",
       "      <th>student_id</th>\n",
       "      <th>grp</th>\n",
       "      <th>rev</th>\n",
       "    </tr>\n",
       "  </thead>\n",
       "  <tbody>\n",
       "    <tr>\n",
       "      <th>1</th>\n",
       "      <td>5723133</td>\n",
       "      <td>NaN</td>\n",
       "      <td>NaN</td>\n",
       "    </tr>\n",
       "    <tr>\n",
       "      <th>111</th>\n",
       "      <td>5951797</td>\n",
       "      <td>NaN</td>\n",
       "      <td>NaN</td>\n",
       "    </tr>\n",
       "    <tr>\n",
       "      <th>632</th>\n",
       "      <td>5730382</td>\n",
       "      <td>NaN</td>\n",
       "      <td>NaN</td>\n",
       "    </tr>\n",
       "    <tr>\n",
       "      <th>2662</th>\n",
       "      <td>5739944</td>\n",
       "      <td>NaN</td>\n",
       "      <td>NaN</td>\n",
       "    </tr>\n",
       "    <tr>\n",
       "      <th>3830</th>\n",
       "      <td>5945085</td>\n",
       "      <td>NaN</td>\n",
       "      <td>NaN</td>\n",
       "    </tr>\n",
       "    <tr>\n",
       "      <th>4900</th>\n",
       "      <td>5700613</td>\n",
       "      <td>NaN</td>\n",
       "      <td>NaN</td>\n",
       "    </tr>\n",
       "    <tr>\n",
       "      <th>5254</th>\n",
       "      <td>5729371</td>\n",
       "      <td>NaN</td>\n",
       "      <td>NaN</td>\n",
       "    </tr>\n",
       "    <tr>\n",
       "      <th>5746</th>\n",
       "      <td>5777081</td>\n",
       "      <td>NaN</td>\n",
       "      <td>NaN</td>\n",
       "    </tr>\n",
       "    <tr>\n",
       "      <th>7413</th>\n",
       "      <td>5740903</td>\n",
       "      <td>NaN</td>\n",
       "      <td>1900.0</td>\n",
       "    </tr>\n",
       "    <tr>\n",
       "      <th>7505</th>\n",
       "      <td>5760471</td>\n",
       "      <td>NaN</td>\n",
       "      <td>NaN</td>\n",
       "    </tr>\n",
       "    <tr>\n",
       "      <th>7535</th>\n",
       "      <td>5728431</td>\n",
       "      <td>NaN</td>\n",
       "      <td>NaN</td>\n",
       "    </tr>\n",
       "    <tr>\n",
       "      <th>7647</th>\n",
       "      <td>5723648</td>\n",
       "      <td>NaN</td>\n",
       "      <td>NaN</td>\n",
       "    </tr>\n",
       "    <tr>\n",
       "      <th>7668</th>\n",
       "      <td>5870856</td>\n",
       "      <td>NaN</td>\n",
       "      <td>NaN</td>\n",
       "    </tr>\n",
       "  </tbody>\n",
       "</table>\n",
       "</div>"
      ],
      "text/plain": [
       "      student_id  grp     rev\n",
       "1        5723133  NaN     NaN\n",
       "111      5951797  NaN     NaN\n",
       "632      5730382  NaN     NaN\n",
       "2662     5739944  NaN     NaN\n",
       "3830     5945085  NaN     NaN\n",
       "4900     5700613  NaN     NaN\n",
       "5254     5729371  NaN     NaN\n",
       "5746     5777081  NaN     NaN\n",
       "7413     5740903  NaN  1900.0\n",
       "7505     5760471  NaN     NaN\n",
       "7535     5728431  NaN     NaN\n",
       "7647     5723648  NaN     NaN\n",
       "7668     5870856  NaN     NaN"
      ]
     },
     "execution_count": 11,
     "metadata": {},
     "output_type": "execute_result"
    }
   ],
   "source": [
    "df.query('grp.isnull()')"
   ]
  },
  {
   "cell_type": "markdown",
   "metadata": {},
   "source": [
    "Один из этих студентов совершил оплату в период проведения эксперимента. Однако этот студент не попал в нашу выборку по группам, поэтому можно предположить, что произошла оплата за ранее произведенную покупку. Очистим дф от всех NaN значений:"
   ]
  },
  {
   "cell_type": "code",
   "execution_count": 12,
   "metadata": {},
   "outputs": [],
   "source": [
    "df.dropna(subset=['grp'], inplace=True)"
   ]
  },
  {
   "cell_type": "code",
   "execution_count": 13,
   "metadata": {},
   "outputs": [
    {
     "data": {
      "text/html": [
       "<div>\n",
       "<style scoped>\n",
       "    .dataframe tbody tr th:only-of-type {\n",
       "        vertical-align: middle;\n",
       "    }\n",
       "\n",
       "    .dataframe tbody tr th {\n",
       "        vertical-align: top;\n",
       "    }\n",
       "\n",
       "    .dataframe thead th {\n",
       "        text-align: right;\n",
       "    }\n",
       "</style>\n",
       "<table border=\"1\" class=\"dataframe\">\n",
       "  <thead>\n",
       "    <tr style=\"text-align: right;\">\n",
       "      <th></th>\n",
       "      <th>student_id</th>\n",
       "      <th>grp</th>\n",
       "      <th>rev</th>\n",
       "    </tr>\n",
       "  </thead>\n",
       "  <tbody>\n",
       "    <tr>\n",
       "      <th>0</th>\n",
       "      <td>581585</td>\n",
       "      <td>A</td>\n",
       "      <td>NaN</td>\n",
       "    </tr>\n",
       "    <tr>\n",
       "      <th>2</th>\n",
       "      <td>3276743</td>\n",
       "      <td>B</td>\n",
       "      <td>NaN</td>\n",
       "    </tr>\n",
       "    <tr>\n",
       "      <th>3</th>\n",
       "      <td>4238589</td>\n",
       "      <td>A</td>\n",
       "      <td>NaN</td>\n",
       "    </tr>\n",
       "    <tr>\n",
       "      <th>4</th>\n",
       "      <td>4475369</td>\n",
       "      <td>B</td>\n",
       "      <td>NaN</td>\n",
       "    </tr>\n",
       "    <tr>\n",
       "      <th>5</th>\n",
       "      <td>5481015</td>\n",
       "      <td>B</td>\n",
       "      <td>NaN</td>\n",
       "    </tr>\n",
       "    <tr>\n",
       "      <th>...</th>\n",
       "      <td>...</td>\n",
       "      <td>...</td>\n",
       "      <td>...</td>\n",
       "    </tr>\n",
       "    <tr>\n",
       "      <th>8336</th>\n",
       "      <td>1794344</td>\n",
       "      <td>B</td>\n",
       "      <td>NaN</td>\n",
       "    </tr>\n",
       "    <tr>\n",
       "      <th>8337</th>\n",
       "      <td>296883</td>\n",
       "      <td>B</td>\n",
       "      <td>NaN</td>\n",
       "    </tr>\n",
       "    <tr>\n",
       "      <th>8338</th>\n",
       "      <td>3598448</td>\n",
       "      <td>B</td>\n",
       "      <td>NaN</td>\n",
       "    </tr>\n",
       "    <tr>\n",
       "      <th>8339</th>\n",
       "      <td>3610547</td>\n",
       "      <td>B</td>\n",
       "      <td>290.0</td>\n",
       "    </tr>\n",
       "    <tr>\n",
       "      <th>8340</th>\n",
       "      <td>205705</td>\n",
       "      <td>B</td>\n",
       "      <td>NaN</td>\n",
       "    </tr>\n",
       "  </tbody>\n",
       "</table>\n",
       "<p>8328 rows × 3 columns</p>\n",
       "</div>"
      ],
      "text/plain": [
       "      student_id grp    rev\n",
       "0         581585   A    NaN\n",
       "2        3276743   B    NaN\n",
       "3        4238589   A    NaN\n",
       "4        4475369   B    NaN\n",
       "5        5481015   B    NaN\n",
       "...          ...  ..    ...\n",
       "8336     1794344   B    NaN\n",
       "8337      296883   B    NaN\n",
       "8338     3598448   B    NaN\n",
       "8339     3610547   B  290.0\n",
       "8340      205705   B    NaN\n",
       "\n",
       "[8328 rows x 3 columns]"
      ]
     },
     "execution_count": 13,
     "metadata": {},
     "output_type": "execute_result"
    }
   ],
   "source": [
    "df"
   ]
  },
  {
   "cell_type": "markdown",
   "metadata": {},
   "source": [
    "## Шаг 3. Разделение на группы\n",
    "Следующим шагом разделим нашу таблицу на две - разнесем пользователей по группам."
   ]
  },
  {
   "cell_type": "code",
   "execution_count": 14,
   "metadata": {
    "scrolled": true
   },
   "outputs": [
    {
     "name": "stdout",
     "output_type": "stream",
     "text": [
      "Количество пользователей в контрольной группе: 1535\n",
      "Количество пользователей в целевой группе: 6793\n"
     ]
    }
   ],
   "source": [
    "group_a = df.query('grp == \"A\"')\n",
    "print('Количество пользователей в контрольной группе:', len(group_a))\n",
    "group_b = df.query('grp == \"B\"')\n",
    "print('Количество пользователей в целевой группе:', len(group_b))"
   ]
  },
  {
   "cell_type": "markdown",
   "metadata": {},
   "source": [
    "Как мы видим, в группах присутствует не равное количество пользователей.\n",
    "\n",
    "\n",
    "## Шаг 4. Сравниваем ключевые метрики\n",
    "Наша ключевая метрика - выручка. \n",
    "Нам также интересно узнать, как изменились следующие метрики:\n",
    "* ARPU или выручка на пользователя (average revenue per user);\n",
    "* APPU или выручка на платящего пользователя (average revenue per paying user);\n",
    "* CR или конверсия в покупку (puchace click-through rate)."
   ]
  },
  {
   "cell_type": "code",
   "execution_count": 15,
   "metadata": {
    "scrolled": true
   },
   "outputs": [
    {
     "name": "stdout",
     "output_type": "stream",
     "text": [
      "ARPU в контрольной группе составляет 47.44\n",
      "ARPU в целевой группе составляет 256.07\n",
      "\n",
      "В целевой группе эта метрика на 439.78% больше, чем в контрольной\n"
     ]
    }
   ],
   "source": [
    "# Для начала посчитаем ARPU в обеих группах \n",
    "ARPU_a = (group_a.rev.sum() / len(group_a.rev)).round(2)\n",
    "ARPU_b = (group_b.rev.sum() / len(group_a.rev)).round(2)\n",
    "print(f'ARPU в контрольной группе составляет {ARPU_a}')\n",
    "print(f'ARPU в целевой группе составляет {ARPU_b}')\n",
    "print('\\nВ целевой группе эта метрика на', str((ARPU_b*100/ARPU_a - 100).round(2)) + '% больше, чем в контрольной')"
   ]
  },
  {
   "cell_type": "code",
   "execution_count": 16,
   "metadata": {},
   "outputs": [
    {
     "name": "stdout",
     "output_type": "stream",
     "text": [
      "ARPPU в контрольной группе составляет 933.59\n",
      "ARPPU в целевой группе составляет 1255.83\n",
      "\n",
      "В целевой группе эта метрика на 34.52% больше, чем в контрольной\n"
     ]
    }
   ],
   "source": [
    "# ARPPU в обеих группах \n",
    "ARPPU_a = group_a.rev.mean().round(2)\n",
    "ARPPU_b = group_b.rev.mean().round(2)\n",
    "print(f'ARPPU в контрольной группе составляет {ARPPU_a}')\n",
    "print(f'ARPPU в целевой группе составляет {ARPPU_b}')\n",
    "print('\\nВ целевой группе эта метрика на', str((ARPPU_b*100/ARPPU_a - 100).round(2)) + '% больше, чем в контрольной')"
   ]
  },
  {
   "cell_type": "markdown",
   "metadata": {},
   "source": [
    "Конверсия = количество посетителей, совершивших целевое действие / общее количество всех посетителей * 100"
   ]
  },
  {
   "cell_type": "code",
   "execution_count": 17,
   "metadata": {},
   "outputs": [
    {
     "name": "stdout",
     "output_type": "stream",
     "text": [
      "CR в контрольной группе составляет 5.08%\n",
      "CR в целевой группе составляет 4.61%\n",
      "\n",
      "В целевой группе эта метрика на 0.47% меньше, чем в контрольной\n"
     ]
    }
   ],
   "source": [
    "# CR в обеих группах \n",
    "CR_a = round(len(group_a[group_a.rev>0]) / len(group_a.rev) * 100, 2)\n",
    "CR_b = round(len(group_b[group_b.rev>0]) / len(group_b.rev) * 100, 2)\n",
    "print(f'CR в контрольной группе составляет {CR_a}%')\n",
    "print(f'CR в целевой группе составляет {CR_b}%')\n",
    "print('\\nВ целевой группе эта метрика на',  str(round(CR_a - CR_b, 2)) + '% меньше, чем в контрольной')"
   ]
  },
  {
   "cell_type": "markdown",
   "metadata": {},
   "source": [
    "Итак, ARPU и ARPPU в целевой группе превышает значение контрольной, однако конверсия в покупку в целевой группе ниже, чем в контрольной. Выясним, действительно ли данные отличаются статистически значимо.\n",
    "\n",
    "Это можно сделать следующими способами: \n",
    "* t-критерий Стьюдента,\n",
    "* u-критерий Манна Уитни,\n",
    "* bootstrap.\n",
    "\n",
    "Для определения наиболее подходящего способа, посмотрим на распределения."
   ]
  },
  {
   "cell_type": "code",
   "execution_count": 18,
   "metadata": {
    "scrolled": true
   },
   "outputs": [
    {
     "data": {
      "text/plain": [
       "<matplotlib.axes._subplots.AxesSubplot at 0x7f13bcc02c18>"
      ]
     },
     "execution_count": 18,
     "metadata": {},
     "output_type": "execute_result"
    },
    {
     "data": {
      "image/png": "[encoded data removed]",
      "text/plain": [
       "<Figure size 842.4x595.44 with 1 Axes>"
      ]
     },
     "metadata": {},
     "output_type": "display_data"
    }
   ],
   "source": [
    "# Посмотрим на распределения выручки по нашим группам\n",
    "sns.histplot(data=df, x='rev', hue='grp', kde=True, bins=15)"
   ]
  },
  {
   "cell_type": "markdown",
   "metadata": {},
   "source": [
    "Гистограмма отображает количество платежей (в штуках) по каждой сумме чека. Так как группа B (целевая) содержит в 4 раза больше пользователей, не удивительно, что количество совершенных покупок по каждой сумме выше.\n",
    "\n",
    "Стоит также обратить внимание на пик в районе 2000: более 100 пользователей группы B произвели покупку на эту сумму, что составляет треть от общего числа юзеров группы, поэтому в нашем случае нельзя применять тест Манна-Уитни, так как критерий Манна-Уитни применим только к мерным данным, т.е. таким, моделью для которых являются непрерывные случайные величины. На практике это означает, что среди анализируемых данных не должно быть совпадающих значений. В нашем случае повторяющихся значений слишком много, поэтому критерий перестает быть свободным от распределения (непараметрическим) и начинает зависеть от неизвестной вероятности совпадений.\n",
    "\n",
    "Проверим, можем ли мы использовать для критерий Стьюдента.\n",
    "\n",
    "Критерии применения t-test:\n",
    "* Данные должны быть нормально распределены.\n",
    "* Дисперсия данных должна быть одинакова между группами."
   ]
  },
  {
   "cell_type": "code",
   "execution_count": 19,
   "metadata": {
    "scrolled": false
   },
   "outputs": [
    {
     "data": {
      "text/plain": [
       "Text(0.5, 1.0, 'Целевая группа')"
      ]
     },
     "execution_count": 19,
     "metadata": {},
     "output_type": "execute_result"
    },
    {
     "data": {
      "image/png": "[encoded data removed]",
      "text/plain": [
       "<Figure size 1152x288 with 2 Axes>"
      ]
     },
     "metadata": {},
     "output_type": "display_data"
    }
   ],
   "source": [
    "# Теперь посмотрим внимательнее на распределения внутри групп\n",
    "plt.figure(figsize=(16, 4))\n",
    "plt.subplot(1, 2, 1)\n",
    "group_a.rev.hist(label='A', bins=15)\n",
    "plt.title(\"Контрольная группа\")\n",
    "\n",
    "plt.subplot(1, 2, 2)\n",
    "group_b.rev.hist(color='orange', bins=15)\n",
    "plt.title(\"Целевая группа\")"
   ]
  },
  {
   "cell_type": "markdown",
   "metadata": {},
   "source": [
    "Мы видим, что распределения не близки к нормальным (колоколообразным). Проверим это статистически:"
   ]
  },
  {
   "cell_type": "code",
   "execution_count": 20,
   "metadata": {},
   "outputs": [],
   "source": [
    "# Проверка на нормальность распределения\n",
    "def shapiro_check(data):\n",
    "    if shapiro(data)[1] > 0.05:\n",
    "        print('Распределение нормально, так как значение \\np-value =', shapiro(data)[1])\n",
    "    else:\n",
    "        print('Распределение ненормально, так как значение \\np-value =', shapiro(data)[1])\n",
    "        \n",
    "# Проверка на одинаковость дисперсий\n",
    "def var_check(group1, group2):\n",
    "    stat, p = levene(group1, group2)\n",
    "    if p > 0.05:\n",
    "        print('Дисперсии выручки контрольной и целевой групп равны')\n",
    "    else:\n",
    "        print('Дисперсии выручки контрольной и целевой групп равны')"
   ]
  },
  {
   "cell_type": "code",
   "execution_count": 21,
   "metadata": {},
   "outputs": [],
   "source": [
    "group_a_without_na = group_a.dropna()\n",
    "group_b_without_na = group_b.dropna()"
   ]
  },
  {
   "cell_type": "code",
   "execution_count": 22,
   "metadata": {
    "scrolled": true
   },
   "outputs": [
    {
     "name": "stdout",
     "output_type": "stream",
     "text": [
      "Распределение ненормально, так как значение \n",
      "p-value = 1.4986822893803264e-10\n"
     ]
    }
   ],
   "source": [
    "# Для контрольной группыгруппы\n",
    "shapiro_check(group_a_without_na.rev)"
   ]
  },
  {
   "cell_type": "code",
   "execution_count": 23,
   "metadata": {
    "scrolled": true
   },
   "outputs": [
    {
     "name": "stdout",
     "output_type": "stream",
     "text": [
      "Распределение ненормально, так как значение \n",
      "p-value = 1.756778758085431e-16\n"
     ]
    }
   ],
   "source": [
    "# Для целевой группыгруппы\n",
    "shapiro_check(group_b_without_na.rev)"
   ]
  },
  {
   "cell_type": "code",
   "execution_count": 24,
   "metadata": {},
   "outputs": [
    {
     "name": "stdout",
     "output_type": "stream",
     "text": [
      "Дисперсии выручки контрольной и целевой групп равны\n"
     ]
    }
   ],
   "source": [
    "var_check(group_a_without_na.rev, group_b_without_na.rev)"
   ]
  },
  {
   "cell_type": "markdown",
   "metadata": {},
   "source": [
    "Итак, мы не можем применять t-test для проверки, действительно ли данные в наших группах отличаются статистически значимо, так как данные распределены ненормально. Поэтому для проверки будем использовать bootstrap.\n",
    "\n",
    "\n",
    "\n",
    "## Шаг 5. Определяем нулевую гипотезу и применяем статистические тесты\n",
    "### Метрика - средняя выручка\n",
    "Сформулируем нулевую гипотезу (1):\n",
    "\n",
    "**Нулевая гипотеза - средние выручки в контрольной и целевой группах статистически значимо не отличаются друг от друга**\n",
    "\n",
    "Нулевую гипотезу принимaют, если наше значение p выше заданного уровня значимости. Мы будем считать различия значимыми при pvalue больше 0,05. "
   ]
  },
  {
   "cell_type": "code",
   "execution_count": 25,
   "metadata": {},
   "outputs": [],
   "source": [
    "# Объявим функцию, которая позволит проверять гипотезы с помощью бутстрапа\n",
    "\n",
    "def get_bootstrap(\n",
    "    data_column_1,  # числовые значения первой выборки\n",
    "    data_column_2,  # числовые значения второй выборки\n",
    "    boot_it = 1000,  # количество бутстрэп-подвыборок\n",
    "    statistic = np.mean,  # интересующая нас статистика\n",
    "    bootstrap_conf_level = 0.95  # уровень значимости\n",
    "):\n",
    "    boot_data = []\n",
    "    for i in tqdm(range(boot_it)):  # извлекаем подвыборки\n",
    "        samples_1 = data_column_1.sample(\n",
    "            len(data_column_1), \n",
    "            replace = True  # параметр возвращения\n",
    "        ).values\n",
    "        \n",
    "        samples_2 = data_column_2.sample(\n",
    "            len(data_column_1), \n",
    "            replace = True\n",
    "        ).values\n",
    "        \n",
    "        boot_data.append(statistic(samples_1)-statistic(samples_2))  # mean() - применяем статистику\n",
    "        \n",
    "    pd_boot_data = pd.DataFrame(boot_data)\n",
    "        \n",
    "    left_quant = (1 - bootstrap_conf_level)/2\n",
    "    right_quant = 1 - (1 - bootstrap_conf_level) / 2\n",
    "    quants = pd_boot_data.quantile([left_quant, right_quant])\n",
    "        \n",
    "    p_1 = norm.cdf(\n",
    "        x = 0, \n",
    "        loc = np.mean(boot_data), \n",
    "        scale = np.std(boot_data)\n",
    "    )\n",
    "    p_2 = norm.cdf(\n",
    "        x = 0, \n",
    "        loc = -np.mean(boot_data), \n",
    "        scale = np.std(boot_data)\n",
    "    )\n",
    "    p_value = min(p_1, p_2) * 2\n",
    "        \n",
    "    # Визуализация\n",
    "    _, _, bars = plt.hist(pd_boot_data[0], bins = 50)\n",
    "    for bar in bars:\n",
    "        if bar.get_x() <= quants.iloc[0][0] or bar.get_x() >= quants.iloc[1][0]:\n",
    "            bar.set_facecolor('red')\n",
    "        else: \n",
    "            bar.set_facecolor('grey')\n",
    "            bar.set_edgecolor('black')\n",
    "    \n",
    "    plt.style.use('ggplot')\n",
    "    plt.vlines(quants,ymin=0,ymax=50,linestyle='--')\n",
    "    plt.xlabel('boot_data')\n",
    "    plt.ylabel('frequency')\n",
    "    plt.title(\"Histogram of boot_data\")\n",
    "    plt.show()\n",
    "       \n",
    "    return {\"boot_data\": boot_data, \n",
    "            \"quants\": quants, \n",
    "            \"p_value\": p_value}"
   ]
  },
  {
   "cell_type": "code",
   "execution_count": 26,
   "metadata": {},
   "outputs": [],
   "source": [
    "x = group_a_without_na.rev\n",
    "y = group_b_without_na.rev"
   ]
  },
  {
   "cell_type": "code",
   "execution_count": 27,
   "metadata": {},
   "outputs": [
    {
     "data": {
      "application/vnd.jupyter.widget-view+json": {
       "model_id": "a6f41ec9d782410bae07901983303c45",
       "version_major": 2,
       "version_minor": 0
      },
      "text/plain": [
       "HBox(children=(FloatProgress(value=0.0, max=1000.0), HTML(value='')))"
      ]
     },
     "metadata": {},
     "output_type": "display_data"
    },
    {
     "name": "stdout",
     "output_type": "stream",
     "text": [
      "\n"
     ]
    },
    {
     "data": {
      "image/png": "[encoded data removed]",
      "text/plain": [
       "<Figure size 842.4x595.44 with 1 Axes>"
      ]
     },
     "metadata": {},
     "output_type": "display_data"
    }
   ],
   "source": [
    "booted_data = get_bootstrap(x, y)  # в результате хранится разница двух распределений, ДИ и pvalue"
   ]
  },
  {
   "cell_type": "code",
   "execution_count": 28,
   "metadata": {},
   "outputs": [
    {
     "name": "stdout",
     "output_type": "stream",
     "text": [
      "p-value = 0.0205\n"
     ]
    }
   ],
   "source": [
    "print('p-value =', round(booted_data[\"p_value\"], 5))"
   ]
  },
  {
   "cell_type": "code",
   "execution_count": 29,
   "metadata": {
    "scrolled": false
   },
   "outputs": [
    {
     "data": {
      "text/html": [
       "<div>\n",
       "<style scoped>\n",
       "    .dataframe tbody tr th:only-of-type {\n",
       "        vertical-align: middle;\n",
       "    }\n",
       "\n",
       "    .dataframe tbody tr th {\n",
       "        vertical-align: top;\n",
       "    }\n",
       "\n",
       "    .dataframe thead th {\n",
       "        text-align: right;\n",
       "    }\n",
       "</style>\n",
       "<table border=\"1\" class=\"dataframe\">\n",
       "  <thead>\n",
       "    <tr style=\"text-align: right;\">\n",
       "      <th></th>\n",
       "      <th>0</th>\n",
       "    </tr>\n",
       "  </thead>\n",
       "  <tbody>\n",
       "    <tr>\n",
       "      <th>0.025</th>\n",
       "      <td>-587.676940</td>\n",
       "    </tr>\n",
       "    <tr>\n",
       "      <th>0.975</th>\n",
       "      <td>-29.817638</td>\n",
       "    </tr>\n",
       "  </tbody>\n",
       "</table>\n",
       "</div>"
      ],
      "text/plain": [
       "                0\n",
       "0.025 -587.676940\n",
       "0.975  -29.817638"
      ]
     },
     "execution_count": 29,
     "metadata": {},
     "output_type": "execute_result"
    }
   ],
   "source": [
    "booted_data[\"quants\"] # Доверительный интервал"
   ]
  },
  {
   "cell_type": "markdown",
   "metadata": {},
   "source": [
    "В нашем случае, бутстрап считает разницу между средними бутстрапированных выборок. Если бы разница между проверяемыми значениями отсутствовала, то разность между средними была бы равной нулю (попала в интервал, который включает в себя 0). Однако наш результат не включает ноль. 95% доверительный интервал лежит в промежутке ~от -586 до -52, cледовательно выручка в контрольной и целевой группах стат-значимо **отличаются**."
   ]
  },
  {
   "cell_type": "markdown",
   "metadata": {},
   "source": [
    "### Проверим также вторую метрику - конверсию в покупку\n",
    "\n",
    "Сформулируем нулевую гипотезу (2):\n",
    "\n",
    "**Нулевая гипотеза - конверсия в покупку в контрольной и целевой группах статистически значимо не отличаются друг от друга**\n",
    "\n",
    "Поскольку мы проводим A/B-тест для конверсий (конверсия представляет собой категориальную переменную, так как пользовательлибо совершил покупку (1) либо нет совершил покупку (0)), мы будем использовать критерий **хи-квадрат**."
   ]
  },
  {
   "cell_type": "code",
   "execution_count": 30,
   "metadata": {},
   "outputs": [
    {
     "name": "stdout",
     "output_type": "stream",
     "text": [
      "Количество платящих пользователей контрольной группы: 78 \n",
      "Количество неплатящих пользователей контрольной группы 1457\n",
      "\n",
      "\n",
      "Количество платящих пользователей целевой группы: 313 \n",
      "Количество неплатящих пользователей целевой группы 6480\n"
     ]
    }
   ],
   "source": [
    "print('Количество платящих пользователей контрольной группы:', len(group_a[group_a.rev>0]), '\\nКоличество неплатящих пользователей контрольной группы', len(group_a[group_a.rev.isna()]))\n",
    "print('\\n\\nКоличество платящих пользователей целевой группы:', len(group_b[group_b.rev>0]), '\\nКоличество неплатящих пользователей целевой группы', len(group_b[group_b.rev.isna()]))"
   ]
  },
  {
   "cell_type": "code",
   "execution_count": 31,
   "metadata": {},
   "outputs": [
    {
     "name": "stdout",
     "output_type": "stream",
     "text": [
      "Хи-квадрат: 0.527\n",
      "p-value: 0.468\n",
      "Количество степеней свободы: 1\n"
     ]
    }
   ],
   "source": [
    "groups_CR = [[len(group_a[group_a.rev>0]), len(group_a[group_a.rev.isna()])], [len(group_b[group_b.rev>0]), len(group_b[group_b.rev.isna()])]]\n",
    "xi, p_value, dof, expected = stats.chi2_contingency(groups_CR)\n",
    "print(f\"Хи-квадрат: {xi.round(3)}\\np-value: {p_value.round(3)}\\nКоличество степеней свободы: {dof}\")"
   ]
  },
  {
   "cell_type": "markdown",
   "metadata": {},
   "source": [
    "Значение p-value значительно превышает 0,05, cледовательно, мы не можем отклонить нулевую гипотезу и можем прийти к заключению, что конверсия в покупку в контрольной и целевой группах стат-значимо **не отличаются**."
   ]
  },
  {
   "cell_type": "markdown",
   "metadata": {},
   "source": [
    "## Шаг 6. Делаем вывод\n",
    "\n",
    "*Выручка* в контрольной и целевой группах стат-значимо **отличается** при том, что *конверсия в покупку* стат.значимо не изменилась. Рекомендуется **запускать новую механику** на всех пользователей.\n",
    "\n",
    "|\n",
    "\n",
    "|\n",
    "\n",
    "|"
   ]
  },
  {
   "cell_type": "markdown",
   "metadata": {},
   "source": [
    "# Что если наш эксперимент продолжается и нам нужно отслеживать метрики постоянно, добавляя новые данные?\n",
    "\n",
    "Реализуем функцию, которая будет автоматически подгружать информацию из дополнительного файла groups_add.csv и на основании дополнительных параметров пересчитывать метрики."
   ]
  },
  {
   "cell_type": "code",
   "execution_count": 32,
   "metadata": {},
   "outputs": [],
   "source": [
    "def check_p(pvalue):\n",
    "    \"\"\"\n",
    "    Функция принимает в качестве аргумента значение уровня значимости статистического теста.\n",
    "    Функция используется для проверки статистической значимости результата теста.\n",
    "    \"\"\"\n",
    "    if pvalue > 0.05:\n",
    "        return 'Принимаем нулевую гипотезу'\n",
    "    else:\n",
    "        return 'Отклоняем нулевую гипотезу'\n",
    "    \n",
    "\n",
    "def summary(pvalue1, pvalue2):\n",
    "    \"\"\"\n",
    "    Функция принимает на вход два значения p-value\n",
    "    и на основе их значений формулирует вывод о результате A/B-тестирования.\n",
    "    \"\"\"\n",
    "    if pvalue1 < 0.05 and pvalue2 > 0.05:\n",
    "        return '\\n\\nВывод: выручка в контрольной и целевой группах стат-значимо отличаются, а конверсия в покупку - нет. Рекомендуется запускать новую механику на всех пользователей.'\n",
    "    elif pvalue1 > 0.05 and pvalue2 > 0.05:\n",
    "        return '\\n\\nВывод: выручка в контрольной и целевой группах стат-значимо НЕ отличаются, как и конверсия в покупку. Запускать новую механику не имеет практического смысла.'\n",
    "    elif pvalue1 > 0.05 and pvalue2 < 0.05:\n",
    "        return '\\n\\nВывод: выручка в контрольной и целевой группах стат-значимо НЕ отличаются, а конверсия в покупку изменилась. Не рекомендуется запускать новую механику на всех пользователей.'\n",
    "    else:\n",
    "        return '\\n\\nВывод: выручка в контрольной и целевой группах стат-значимо отличаются, как и конверсия в покупку. Рекомендуется проводить более детальное исследование'"
   ]
  },
  {
   "cell_type": "code",
   "execution_count": 33,
   "metadata": {},
   "outputs": [],
   "source": [
    "def add_new_file(file_name):\n",
    "    \"\"\"\n",
    "    Функция считывает данные из CSV-файла с данными о группах,\n",
    "    производит анализ A/B-теста для контрольной и целевой групп. \n",
    "    Она вычисляет несколько метрик (ARPU, ARPPU, CR) и использует\n",
    "    bootstrap для вычисления p-value.\n",
    "    \n",
    "    Аргументы:\n",
    "    file_name -- имя csv-файла, из которого нужно считать данные о группах\n",
    "    \n",
    "    Возвращаемое значение:\n",
    "    Вывод AB-теста, результаты анализа.\n",
    "    \"\"\"\n",
    "    groups_add   = pd.read_csv(file_name, sep=',')\n",
    "    groups_add.rename(columns={'id': 'student_id'}, inplace=True)\n",
    "    add_df = groups_add.merge(checks, on='student_id', how='inner')\n",
    "    add_df = df.merge(add_df, on=['student_id', 'grp', 'rev'], how='outer')\n",
    "    add_group_a = add_df.query('grp == \"A\"')\n",
    "    add_group_b = add_df.query('grp == \"B\"')\n",
    "    \n",
    "    # Для начала посчитаем ARPU в обеих группах \n",
    "    ARPU_a = (group_a.rev.sum() / len(group_a.rev)).round(2)\n",
    "    ARPU_b = (group_b.rev.sum() / len(group_a.rev)).round(2)\n",
    "    print(f'ARPU в контрольной группе составляет {ARPU_a}')\n",
    "    print(f'ARPU в целевой группе составляет {ARPU_b}')\n",
    "    print('В целевой группе эта метрика на', str((ARPU_b*100/ARPU_a - 100).round(2)) + '% больше, чем в контрольной')\n",
    "    \n",
    "    # ARPPU в обеих группах \n",
    "    ARPPU_a = group_a.rev.mean().round(2)\n",
    "    ARPPU_b = group_b.rev.mean().round(2)\n",
    "    print(f'ARPPU в контрольной группе составляет {ARPPU_a}')\n",
    "    print(f'ARPPU в целевой группе составляет {ARPPU_b}')\n",
    "    print('\\nВ целевой группе эта метрика на', str((ARPPU_b*100/ARPPU_a - 100).round(2)) + '% больше, чем в контрольной')\n",
    "\n",
    "    # CR в обеих группах \n",
    "    CR_a = round(len(group_a[group_a.rev>0]) / len(group_a.rev) * 100, 2)\n",
    "    CR_b = round(len(group_b[group_b.rev>0]) / len(group_b.rev) * 100, 2)\n",
    "    print(f'CR в контрольной группе составляет {CR_a}%')\n",
    "    print(f'CR в целевой группе составляет {CR_b}%')\n",
    "    print('\\nВ целевой группе эта метрика на',  str(round(CR_a - CR_b, 2)) + '% меньше, чем в контрольной')\n",
    "    \n",
    "    # bootstrap (выручка)\n",
    "    add_group_a_without_na = add_group_a.dropna()\n",
    "    add_group_b_without_na = add_group_b.dropna()\n",
    "    x = add_group_a_without_na.rev\n",
    "    y = add_group_b_without_na.rev\n",
    "    booted_data = get_bootstrap(x, y)\n",
    "    print('\\np-value при сравнении групп по выручке:', round(booted_data[\"p_value\"], 5))\n",
    "    print(check_p(booted_data[\"p_value\"]))\n",
    "    \n",
    "    # хи-квадрат (конверсия в покупку)\n",
    "    groups_CR = [[len(group_a[group_a.rev>0]), len(group_a[group_a.rev.isna()])], [len(group_b[group_b.rev>0]), len(group_b[group_b.rev.isna()])]]\n",
    "    xi, p, dof, expected = stats.chi2_contingency(groups_CR)\n",
    "    print(f\"\\np-value при сравнении групп по конверсии: {p_value.round(5)}\")\n",
    "    print(check_p(p_value))\n",
    "    \n",
    "    # summarize\n",
    "    print(summary(booted_data[\"p_value\"], p_value))"
   ]
  },
  {
   "cell_type": "code",
   "execution_count": 34,
   "metadata": {},
   "outputs": [
    {
     "name": "stdout",
     "output_type": "stream",
     "text": [
      "ARPU в контрольной группе составляет 47.44\n",
      "ARPU в целевой группе составляет 256.07\n",
      "В целевой группе эта метрика на 439.78% больше, чем в контрольной\n",
      "ARPPU в контрольной группе составляет 933.59\n",
      "ARPPU в целевой группе составляет 1255.83\n",
      "\n",
      "В целевой группе эта метрика на 34.52% больше, чем в контрольной\n",
      "CR в контрольной группе составляет 5.08%\n",
      "CR в целевой группе составляет 4.61%\n",
      "\n",
      "В целевой группе эта метрика на 0.47% меньше, чем в контрольной\n"
     ]
    },
    {
     "data": {
      "application/vnd.jupyter.widget-view+json": {
       "model_id": "53e4032b2c6d41208b154b02feeafaee",
       "version_major": 2,
       "version_minor": 0
      },
      "text/plain": [
       "HBox(children=(FloatProgress(value=0.0, max=1000.0), HTML(value='')))"
      ]
     },
     "metadata": {},
     "output_type": "display_data"
    },
    {
     "name": "stdout",
     "output_type": "stream",
     "text": [
      "\n"
     ]
    },
    {
     "data": {
      "image/png": "[encoded data removed]",
      "text/plain": [
       "<Figure size 842.4x595.44 with 1 Axes>"
      ]
     },
     "metadata": {},
     "output_type": "display_data"
    },
    {
     "name": "stdout",
     "output_type": "stream",
     "text": [
      "\n",
      "p-value при сравнении групп по выручке: 0.01701\n",
      "Отклоняем нулевую гипотезу\n",
      "\n",
      "p-value при сравнении групп по конверсии: 0.46804\n",
      "Принимаем нулевую гипотезу\n",
      "\n",
      "\n",
      "Вывод: выручка в контрольной и целевой группах стат-значимо отличаются, а конверсия в покупку - нет. Рекомендуется запускать новую механику на всех пользователей.\n"
     ]
    }
   ],
   "source": [
    "add_new_file('https://getfile.dokpub.com/yandex/get/https://disk.yandex.ru/d/5Kxrz02m3IBUwQ')"
   ]
  },
  {
   "cell_type": "code",
   "execution_count": null,
   "metadata": {},
   "outputs": [],
   "source": []
  }
 ],
 "metadata": {
  "kernelspec": {
   "display_name": "Python 3",
   "language": "python",
   "name": "python3"
  },
  "language_info": {
   "codemirror_mode": {
    "name": "ipython",
    "version": 3
   },
   "file_extension": ".py",
   "mimetype": "text/x-python",
   "name": "python",
   "nbconvert_exporter": "python",
   "pygments_lexer": "ipython3",
   "version": "3.7.3"
  }
 },
 "nbformat": 4,
 "nbformat_minor": 4
}
